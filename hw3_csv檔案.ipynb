{
  "nbformat": 4,
  "nbformat_minor": 0,
  "metadata": {
    "colab": {
      "provenance": [],
      "authorship_tag": "ABX9TyNda2IFLzZCEO9jVbX0gnTO",
      "include_colab_link": true
    },
    "kernelspec": {
      "name": "python3",
      "display_name": "Python 3"
    },
    "language_info": {
      "name": "python"
    }
  },
  "cells": [
    {
      "cell_type": "markdown",
      "metadata": {
        "id": "view-in-github",
        "colab_type": "text"
      },
      "source": [
        "<a href=\"https://colab.research.google.com/github/alayuala/114-1PL.repo/blob/main/hw3_csv%E6%AA%94%E6%A1%88.ipynb\" target=\"_parent\"><img src=\"https://colab.research.google.com/assets/colab-badge.svg\" alt=\"Open In Colab\"/></a>"
      ]
    },
    {
      "cell_type": "markdown",
      "source": [
        "# **任務清單檔案匯出csv**  \n",
        "id,task,status,priority,est_min,start_time,end_time,actual_min,pomodoros,due_date,labels,notes,created_at,updated_at,completed_at,planned_for\n",
        "f73a8213,hw3,todo,M,25,,,0,0,2025-10-10,程式語言,,2025-10-09T11:02:44.520327+08:00,2025-10-09T11:02:44.520327+08:00,,today\n",
        "e4b65d25,part2,todo,H,2,,,0,0,2025-10-10,程式語言,,2025-10-09T11:03:24.548760+08:00,2025-10-09T11:04:33.667850+08:00,,today\n"
      ],
      "metadata": {
        "id": "0-V9bPim8HsG"
      }
    },
    {
      "cell_type": "markdown",
      "source": [
        "# **番茄鐘記錄檔案匯出csv**  \n",
        "log_id,task_id,phase,start_ts,end_ts,minutes,cycles,note\n",
        "bbfa8ff7,e4b65d25,work,2025-10-09T11:03:47.804901+08:00,2025-10-09T11:04:33.324442+08:00,0.76,1.0,\n"
      ],
      "metadata": {
        "id": "9QqRedMB8Hew"
      }
    }
  ]
}