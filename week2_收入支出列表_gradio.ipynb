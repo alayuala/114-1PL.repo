{
  "nbformat": 4,
  "nbformat_minor": 0,
  "metadata": {
    "colab": {
      "provenance": [],
      "authorship_tag": "ABX9TyMLlWYheGY71+bZhpjvO6Rx",
      "include_colab_link": true
    },
    "kernelspec": {
      "name": "python3",
      "display_name": "Python 3"
    },
    "language_info": {
      "name": "python"
    }
  },
  "cells": [
    {
      "cell_type": "markdown",
      "metadata": {
        "id": "view-in-github",
        "colab_type": "text"
      },
      "source": [
        "<a href=\"https://colab.research.google.com/github/alayuala/114-1PL.repo/blob/main/week2_%E6%94%B6%E5%85%A5%E6%94%AF%E5%87%BA%E5%88%97%E8%A1%A8_gradio.ipynb\" target=\"_parent\"><img src=\"https://colab.research.google.com/assets/colab-badge.svg\" alt=\"Open In Colab\"/></a>"
      ]
    },
    {
      "cell_type": "markdown",
      "source": [
        "# **日常支出速算與分攤（作業一）**\n",
        "* 目標：從 Sheet 讀「消費紀錄」→ 計總額/分類小計/AA 分攤 → 寫回 Sheet Summary 分頁。\n",
        "* AI 點子：總結本週花錢習慣與建議、預算與總支出報告\n",
        "* Sheet 欄位：date, category, item, amount, payer\n",
        "\n",
        "\n"
      ],
      "metadata": {
        "id": "5zKoqoCvZ9SF"
      }
    },
    {
      "cell_type": "code",
      "metadata": {
        "colab": {
          "base_uri": "https://localhost:8080/",
          "height": 646
        },
        "id": "463b5605",
        "outputId": "6ce1e97b-cafb-4e10-9b20-72b7b81d9935"
      },
      "source": [
        "# Launch the Gradio application defined as demo\n",
        "# Use the .launch() method with the share=True argument to generate a public, shareable URL\n",
        "demo.launch(share=True)"
      ],
      "execution_count": 51,
      "outputs": [
        {
          "output_type": "stream",
          "name": "stdout",
          "text": [
            "Rerunning server... use `close()` to stop if you need to change `launch()` parameters.\n",
            "----\n",
            "Colab notebook detected. To show errors in colab notebook, set debug=True in launch()\n",
            "* Running on public URL: https://60afd5bd1a4de8a55b.gradio.live\n",
            "\n",
            "This share link expires in 1 week. For free permanent hosting and GPU upgrades, run `gradio deploy` from the terminal in the working directory to deploy to Hugging Face Spaces (https://huggingface.co/spaces)\n"
          ]
        },
        {
          "output_type": "display_data",
          "data": {
            "text/plain": [
              "<IPython.core.display.HTML object>"
            ],
            "text/html": [
              "<div><iframe src=\"https://60afd5bd1a4de8a55b.gradio.live\" width=\"100%\" height=\"500\" allow=\"autoplay; camera; microphone; clipboard-read; clipboard-write;\" frameborder=\"0\" allowfullscreen></iframe></div>"
            ]
          },
          "metadata": {}
        },
        {
          "output_type": "execute_result",
          "data": {
            "text/plain": []
          },
          "metadata": {},
          "execution_count": 51
        }
      ]
    },
    {
      "cell_type": "code",
      "execution_count": 16,
      "metadata": {
        "id": "Ny_jn-jGXgpv"
      },
      "outputs": [],
      "source": [
        "from google.colab import auth\n",
        "auth.authenticate_user()\n",
        "\n",
        "import gspread\n",
        "from google.auth import default\n",
        "creds, _ = default()\n",
        "\n",
        "gc = gspread.authorize(creds)\n",
        "\n",
        "# Correcting the variable name to gc as defined in the previous cell\n",
        "# Use the authenticate_and_connect function\n",
        "# gsheets = gc.open_by_url('https://docs.google.com/spreadsheets/d/1B6YbAt0w3qeqJKCwkOVIc-2L672rt6MkX_gq9a3GwfQ/edit?usp=sharing')\n",
        "SHEET_URL = 'https://docs.google.com/spreadsheets/d/1KekcvnaCy4MsLsbi04U0KCeys7dnh-JxCCeHkk9xKFE/edit?usp=sharing' # Use the correct URL\n",
        "gsheets = authenticate_and_connect(SHEET_URL)"
      ]
    },
    {
      "cell_type": "code",
      "source": [
        "import pandas as pd\n",
        "# read data and put it in a dataframe\n",
        "# 在 google 工作表載入 gsheets\n",
        "# Correcting the variable name to gc as defined in the previous cell\n",
        "# This cell is mainly for imports and comments, no execution logic to replace with function call here.\n",
        "# The actual reading of data will be done in a subsequent cell using the read_expense_data function."
      ],
      "metadata": {
        "id": "temtxiFAb1lS"
      },
      "execution_count": 17,
      "outputs": []
    },
    {
      "cell_type": "code",
      "source": [
        "# Use the read_expense_data function to load data\n",
        "gsheets_obj = gsheets # Use the gsheets object from the authentication step\n",
        "df = read_expense_data(gsheets_obj)\n",
        "\n",
        "# Display the head of the DataFrame\n",
        "display(df.head())"
      ],
      "metadata": {
        "colab": {
          "base_uri": "https://localhost:8080/",
          "height": 211
        },
        "id": "RGGYjlSVe-Fn",
        "outputId": "b802459f-a0d2-44e0-dc06-41607ca34415"
      },
      "execution_count": 15,
      "outputs": [
        {
          "output_type": "error",
          "ename": "NameError",
          "evalue": "name 'gsheets' is not defined",
          "traceback": [
            "\u001b[0;31m---------------------------------------------------------------------------\u001b[0m",
            "\u001b[0;31mNameError\u001b[0m                                 Traceback (most recent call last)",
            "\u001b[0;32m/tmp/ipython-input-1028827663.py\u001b[0m in \u001b[0;36m<cell line: 0>\u001b[0;34m()\u001b[0m\n\u001b[1;32m      1\u001b[0m \u001b[0;31m# Use the read_expense_data function to load data\u001b[0m\u001b[0;34m\u001b[0m\u001b[0;34m\u001b[0m\u001b[0m\n\u001b[0;32m----> 2\u001b[0;31m \u001b[0mgsheets_obj\u001b[0m \u001b[0;34m=\u001b[0m \u001b[0mgsheets\u001b[0m \u001b[0;31m# Use the gsheets object from the authentication step\u001b[0m\u001b[0;34m\u001b[0m\u001b[0;34m\u001b[0m\u001b[0m\n\u001b[0m\u001b[1;32m      3\u001b[0m \u001b[0mdf\u001b[0m \u001b[0;34m=\u001b[0m \u001b[0mread_expense_data\u001b[0m\u001b[0;34m(\u001b[0m\u001b[0mgsheets_obj\u001b[0m\u001b[0;34m)\u001b[0m\u001b[0;34m\u001b[0m\u001b[0;34m\u001b[0m\u001b[0m\n\u001b[1;32m      4\u001b[0m \u001b[0;34m\u001b[0m\u001b[0m\n\u001b[1;32m      5\u001b[0m \u001b[0;31m# Display the head of the DataFrame\u001b[0m\u001b[0;34m\u001b[0m\u001b[0;34m\u001b[0m\u001b[0m\n",
            "\u001b[0;31mNameError\u001b[0m: name 'gsheets' is not defined"
          ]
        }
      ]
    },
    {
      "cell_type": "code",
      "source": [
        "import datetime"
      ],
      "metadata": {
        "id": "eMTuq0YLfEP0"
      },
      "execution_count": null,
      "outputs": []
    },
    {
      "cell_type": "code",
      "source": [
        "import datetime\n",
        "\n",
        "# Simple dictionary for category suggestions (can be expanded)\n",
        "category_suggestions = {\n",
        "    '便當': '餐飲',\n",
        "    '拉麵': '餐飲',\n",
        "    '油錢': '交通',\n",
        "    '衛生紙': '購物',\n",
        "    '珍奶': '飲料',\n",
        "    '星巴克': '飲料',\n",
        "    '咖啡': '飲料',\n",
        "    '麵包': '餐飲',\n",
        "    '電影票': '娛樂',\n",
        "    '公車': '交通',\n",
        "    '捷運': '交通',\n",
        "    '計程車': '交通',\n",
        "    '衣服': '購物',\n",
        "    '書本': '購物',\n",
        "    '水電費': '帳單',\n",
        "    '房租': '居住',\n",
        "    '薪水': '收入' # Although not an expense, useful for tracking\n",
        "}\n",
        "\n",
        "# The input logic will be moved to the Gradio interface.\n",
        "# Keeping the category_suggestions dictionary here for now."
      ],
      "metadata": {
        "id": "jXMruslTfH2j"
      },
      "execution_count": 7,
      "outputs": []
    },
    {
      "cell_type": "code",
      "metadata": {
        "colab": {
          "base_uri": "https://localhost:8080/",
          "height": 228
        },
        "id": "7291e74c",
        "outputId": "683c96b2-7a55-4bb4-e4b1-da9cf38fc9da"
      },
      "source": [
        "# Use the calculate_summary_statistics function to calculate summary statistics\n",
        "total_amount, category_subtotals, aa_split_amount, payer_totals, payer_balance = calculate_summary_statistics(df)\n",
        "\n",
        "# Print the calculated summary statistics\n",
        "print(f\"總支出金額: {total_amount:.2f}\")\n",
        "print(\"\\n各類別支出小計:\")\n",
        "display(category_subtotals)\n",
        "print(f\"\\nAA 分攤金額 (每人): {aa_split_amount:.2f}\")\n",
        "print(\"\\n每人總支付金額:\")\n",
        "display(payer_totals)\n",
        "print(\"\\n每人應收/應付金額:\")\n",
        "display(payer_balance)"
      ],
      "execution_count": 18,
      "outputs": [
        {
          "output_type": "error",
          "ename": "NameError",
          "evalue": "name 'df' is not defined",
          "traceback": [
            "\u001b[0;31m---------------------------------------------------------------------------\u001b[0m",
            "\u001b[0;31mNameError\u001b[0m                                 Traceback (most recent call last)",
            "\u001b[0;32m/tmp/ipython-input-2528353467.py\u001b[0m in \u001b[0;36m<cell line: 0>\u001b[0;34m()\u001b[0m\n\u001b[1;32m      1\u001b[0m \u001b[0;31m# Use the calculate_summary_statistics function to calculate summary statistics\u001b[0m\u001b[0;34m\u001b[0m\u001b[0;34m\u001b[0m\u001b[0m\n\u001b[0;32m----> 2\u001b[0;31m \u001b[0mtotal_amount\u001b[0m\u001b[0;34m,\u001b[0m \u001b[0mcategory_subtotals\u001b[0m\u001b[0;34m,\u001b[0m \u001b[0maa_split_amount\u001b[0m\u001b[0;34m,\u001b[0m \u001b[0mpayer_totals\u001b[0m\u001b[0;34m,\u001b[0m \u001b[0mpayer_balance\u001b[0m \u001b[0;34m=\u001b[0m \u001b[0mcalculate_summary_statistics\u001b[0m\u001b[0;34m(\u001b[0m\u001b[0mdf\u001b[0m\u001b[0;34m)\u001b[0m\u001b[0;34m\u001b[0m\u001b[0;34m\u001b[0m\u001b[0m\n\u001b[0m\u001b[1;32m      3\u001b[0m \u001b[0;34m\u001b[0m\u001b[0m\n\u001b[1;32m      4\u001b[0m \u001b[0;31m# Print the calculated summary statistics\u001b[0m\u001b[0;34m\u001b[0m\u001b[0;34m\u001b[0m\u001b[0m\n\u001b[1;32m      5\u001b[0m \u001b[0mprint\u001b[0m\u001b[0;34m(\u001b[0m\u001b[0;34mf\"總支出金額: {total_amount:.2f}\"\u001b[0m\u001b[0;34m)\u001b[0m\u001b[0;34m\u001b[0m\u001b[0;34m\u001b[0m\u001b[0m\n",
            "\u001b[0;31mNameError\u001b[0m: name 'df' is not defined"
          ]
        }
      ]
    },
    {
      "cell_type": "code",
      "metadata": {
        "colab": {
          "base_uri": "https://localhost:8080/",
          "height": 193
        },
        "id": "ed16723c",
        "outputId": "a629baea-137b-4410-b214-6b8788de7571"
      },
      "source": [
        "# Use the write_summary_sheet function to write the summary statistics to the Summary sheet\n",
        "# Assuming spending_analysis_and_advice is available if AI analysis was performed\n",
        "# You might need to run the AI analysis cell first if you want to include it here.\n",
        "write_summary_sheet(gsheets, total_amount, category_subtotals, aa_split_amount, payer_totals, payer_balance)"
      ],
      "execution_count": 19,
      "outputs": [
        {
          "output_type": "error",
          "ename": "NameError",
          "evalue": "name 'total_amount' is not defined",
          "traceback": [
            "\u001b[0;31m---------------------------------------------------------------------------\u001b[0m",
            "\u001b[0;31mNameError\u001b[0m                                 Traceback (most recent call last)",
            "\u001b[0;32m/tmp/ipython-input-3856376614.py\u001b[0m in \u001b[0;36m<cell line: 0>\u001b[0;34m()\u001b[0m\n\u001b[1;32m      2\u001b[0m \u001b[0;31m# Assuming spending_analysis_and_advice is available if AI analysis was performed\u001b[0m\u001b[0;34m\u001b[0m\u001b[0;34m\u001b[0m\u001b[0m\n\u001b[1;32m      3\u001b[0m \u001b[0;31m# You might need to run the AI analysis cell first if you want to include it here.\u001b[0m\u001b[0;34m\u001b[0m\u001b[0;34m\u001b[0m\u001b[0m\n\u001b[0;32m----> 4\u001b[0;31m \u001b[0mwrite_summary_sheet\u001b[0m\u001b[0;34m(\u001b[0m\u001b[0mgsheets\u001b[0m\u001b[0;34m,\u001b[0m \u001b[0mtotal_amount\u001b[0m\u001b[0;34m,\u001b[0m \u001b[0mcategory_subtotals\u001b[0m\u001b[0;34m,\u001b[0m \u001b[0maa_split_amount\u001b[0m\u001b[0;34m,\u001b[0m \u001b[0mpayer_totals\u001b[0m\u001b[0;34m,\u001b[0m \u001b[0mpayer_balance\u001b[0m\u001b[0;34m)\u001b[0m\u001b[0;34m\u001b[0m\u001b[0;34m\u001b[0m\u001b[0m\n\u001b[0m",
            "\u001b[0;31mNameError\u001b[0m: name 'total_amount' is not defined"
          ]
        }
      ]
    },
    {
      "cell_type": "markdown",
      "metadata": {
        "id": "b9b8f127"
      },
      "source": [
        "# Task\n",
        "Explain the provided Python code for managing expenses using Google Sheets, modify it to run correctly, and add a creative element to avoid simply rerunning the same process. The code should read expense data from a Google Sheet, allow adding a new expense, update the sheet, calculate and write summary statistics (total, category subtotals, AA split, individual totals, individual balances) to a \"Summary\" sheet, and optionally provide AI-powered spending analysis and advice. The Google Sheet is located at \"https://docs.google.com/spreadsheets/d/1-v1111111111111111111111111111111/edit#gid=0\"."
      ]
    },
    {
      "cell_type": "markdown",
      "metadata": {
        "id": "ef090f01"
      },
      "source": [
        "**Reasoning**:\n",
        "The previous attempt to open the Google Sheet failed because the provided URL resulted in a SpreadsheetNotFound error (404). This indicates the URL 'https://docs.google.com/spreadsheets/d/1-v1111111111111111111111111111111/edit#gid=0' is incorrect or the sheet does not exist at that location or is not accessible. I need to use the correct URL provided in the earlier code cells, which was 'https://docs.google.com/spreadsheets/d/1KekcvnaCy4MsLsbi04U0KCeys7dnh-JxCCeHkk9xKFE/edit?usp=sharing'. The rest of the authentication steps are already correct.\n",
        "\n"
      ]
    },
    {
      "cell_type": "code",
      "metadata": {
        "colab": {
          "base_uri": "https://localhost:8080/",
          "height": 143
        },
        "id": "12d57716",
        "outputId": "86e70b06-9613-42f3-a16b-6ba736de168f"
      },
      "source": [
        "display(df)"
      ],
      "execution_count": null,
      "outputs": [
        {
          "output_type": "display_data",
          "data": {
            "text/plain": [
              "         date category item  amount payer\n",
              "0  2025-09-11       餐飲  分解茶    35.0     我\n",
              "1  2025-09-11       飲料  星巴克   165.0    沾沾\n",
              "2  2025-09-09       飲料   珍奶    65.0     我"
            ],
            "text/html": [
              "\n",
              "  <div id=\"df-b7eacdc1-0477-4922-a146-11827053bf90\" class=\"colab-df-container\">\n",
              "    <div>\n",
              "<style scoped>\n",
              "    .dataframe tbody tr th:only-of-type {\n",
              "        vertical-align: middle;\n",
              "    }\n",
              "\n",
              "    .dataframe tbody tr th {\n",
              "        vertical-align: top;\n",
              "    }\n",
              "\n",
              "    .dataframe thead th {\n",
              "        text-align: right;\n",
              "    }\n",
              "</style>\n",
              "<table border=\"1\" class=\"dataframe\">\n",
              "  <thead>\n",
              "    <tr style=\"text-align: right;\">\n",
              "      <th></th>\n",
              "      <th>date</th>\n",
              "      <th>category</th>\n",
              "      <th>item</th>\n",
              "      <th>amount</th>\n",
              "      <th>payer</th>\n",
              "    </tr>\n",
              "  </thead>\n",
              "  <tbody>\n",
              "    <tr>\n",
              "      <th>0</th>\n",
              "      <td>2025-09-11</td>\n",
              "      <td>餐飲</td>\n",
              "      <td>分解茶</td>\n",
              "      <td>35.0</td>\n",
              "      <td>我</td>\n",
              "    </tr>\n",
              "    <tr>\n",
              "      <th>1</th>\n",
              "      <td>2025-09-11</td>\n",
              "      <td>飲料</td>\n",
              "      <td>星巴克</td>\n",
              "      <td>165.0</td>\n",
              "      <td>沾沾</td>\n",
              "    </tr>\n",
              "    <tr>\n",
              "      <th>2</th>\n",
              "      <td>2025-09-09</td>\n",
              "      <td>飲料</td>\n",
              "      <td>珍奶</td>\n",
              "      <td>65.0</td>\n",
              "      <td>我</td>\n",
              "    </tr>\n",
              "  </tbody>\n",
              "</table>\n",
              "</div>\n",
              "    <div class=\"colab-df-buttons\">\n",
              "\n",
              "  <div class=\"colab-df-container\">\n",
              "    <button class=\"colab-df-convert\" onclick=\"convertToInteractive('df-b7eacdc1-0477-4922-a146-11827053bf90')\"\n",
              "            title=\"Convert this dataframe to an interactive table.\"\n",
              "            style=\"display:none;\">\n",
              "\n",
              "  <svg xmlns=\"http://www.w3.org/2000/svg\" height=\"24px\" viewBox=\"0 -960 960 960\">\n",
              "    <path d=\"M120-120v-720h720v720H120Zm60-500h600v-160H180v160Zm220 220h160v-160H400v160Zm0 220h160v-160H400v160ZM180-400h160v-160H180v160Zm440 0h160v-160H620v160ZM180-180h160v-160H180v160Zm440 0h160v-160H620v160Z\"/>\n",
              "  </svg>\n",
              "    </button>\n",
              "\n",
              "  <style>\n",
              "    .colab-df-container {\n",
              "      display:flex;\n",
              "      gap: 12px;\n",
              "    }\n",
              "\n",
              "    .colab-df-convert {\n",
              "      background-color: #E8F0FE;\n",
              "      border: none;\n",
              "      border-radius: 50%;\n",
              "      cursor: pointer;\n",
              "      display: none;\n",
              "      fill: #1967D2;\n",
              "      height: 32px;\n",
              "      padding: 0 0 0 0;\n",
              "      width: 32px;\n",
              "    }\n",
              "\n",
              "    .colab-df-convert:hover {\n",
              "      background-color: #E2EBFA;\n",
              "      box-shadow: 0px 1px 2px rgba(60, 64, 67, 0.3), 0px 1px 3px 1px rgba(60, 64, 67, 0.15);\n",
              "      fill: #174EA6;\n",
              "    }\n",
              "\n",
              "    .colab-df-buttons div {\n",
              "      margin-bottom: 4px;\n",
              "    }\n",
              "\n",
              "    [theme=dark] .colab-df-convert {\n",
              "      background-color: #3B4455;\n",
              "      fill: #D2E3FC;\n",
              "    }\n",
              "\n",
              "    [theme=dark] .colab-df-convert:hover {\n",
              "      background-color: #434B5C;\n",
              "      box-shadow: 0px 1px 3px 1px rgba(0, 0, 0, 0.15);\n",
              "      filter: drop-shadow(0px 1px 2px rgba(0, 0, 0, 0.3));\n",
              "      fill: #FFFFFF;\n",
              "    }\n",
              "  </style>\n",
              "\n",
              "    <script>\n",
              "      const buttonEl =\n",
              "        document.querySelector('#df-b7eacdc1-0477-4922-a146-11827053bf90 button.colab-df-convert');\n",
              "      buttonEl.style.display =\n",
              "        google.colab.kernel.accessAllowed ? 'block' : 'none';\n",
              "\n",
              "      async function convertToInteractive(key) {\n",
              "        const element = document.querySelector('#df-b7eacdc1-0477-4922-a146-11827053bf90');\n",
              "        const dataTable =\n",
              "          await google.colab.kernel.invokeFunction('convertToInteractive',\n",
              "                                                    [key], {});\n",
              "        if (!dataTable) return;\n",
              "\n",
              "        const docLinkHtml = 'Like what you see? Visit the ' +\n",
              "          '<a target=\"_blank\" href=https://colab.research.google.com/notebooks/data_table.ipynb>data table notebook</a>'\n",
              "          + ' to learn more about interactive tables.';\n",
              "        element.innerHTML = '';\n",
              "        dataTable['output_type'] = 'display_data';\n",
              "        await google.colab.output.renderOutput(dataTable, element);\n",
              "        const docLink = document.createElement('div');\n",
              "        docLink.innerHTML = docLinkHtml;\n",
              "        element.appendChild(docLink);\n",
              "      }\n",
              "    </script>\n",
              "  </div>\n",
              "\n",
              "\n",
              "    <div id=\"df-8511a16c-65fb-45e0-b4bc-f08b0098a85a\">\n",
              "      <button class=\"colab-df-quickchart\" onclick=\"quickchart('df-8511a16c-65fb-45e0-b4bc-f08b0098a85a')\"\n",
              "                title=\"Suggest charts\"\n",
              "                style=\"display:none;\">\n",
              "\n",
              "<svg xmlns=\"http://www.w3.org/2000/svg\" height=\"24px\"viewBox=\"0 0 24 24\"\n",
              "     width=\"24px\">\n",
              "    <g>\n",
              "        <path d=\"M19 3H5c-1.1 0-2 .9-2 2v14c0 1.1.9 2 2 2h14c1.1 0 2-.9 2-2V5c0-1.1-.9-2-2-2zM9 17H7v-7h2v7zm4 0h-2V7h2v10zm4 0h-2v-4h2v4z\"/>\n",
              "    </g>\n",
              "</svg>\n",
              "      </button>\n",
              "\n",
              "<style>\n",
              "  .colab-df-quickchart {\n",
              "      --bg-color: #E8F0FE;\n",
              "      --fill-color: #1967D2;\n",
              "      --hover-bg-color: #E2EBFA;\n",
              "      --hover-fill-color: #174EA6;\n",
              "      --disabled-fill-color: #AAA;\n",
              "      --disabled-bg-color: #DDD;\n",
              "  }\n",
              "\n",
              "  [theme=dark] .colab-df-quickchart {\n",
              "      --bg-color: #3B4455;\n",
              "      --fill-color: #D2E3FC;\n",
              "      --hover-bg-color: #434B5C;\n",
              "      --hover-fill-color: #FFFFFF;\n",
              "      --disabled-bg-color: #3B4455;\n",
              "      --disabled-fill-color: #666;\n",
              "  }\n",
              "\n",
              "  .colab-df-quickchart {\n",
              "    background-color: var(--bg-color);\n",
              "    border: none;\n",
              "    border-radius: 50%;\n",
              "    cursor: pointer;\n",
              "    display: none;\n",
              "    fill: var(--fill-color);\n",
              "    height: 32px;\n",
              "    padding: 0;\n",
              "    width: 32px;\n",
              "  }\n",
              "\n",
              "  .colab-df-quickchart:hover {\n",
              "    background-color: var(--hover-bg-color);\n",
              "    box-shadow: 0 1px 2px rgba(60, 64, 67, 0.3), 0 1px 3px 1px rgba(60, 64, 67, 0.15);\n",
              "    fill: var(--button-hover-fill-color);\n",
              "  }\n",
              "\n",
              "  .colab-df-quickchart-complete:disabled,\n",
              "  .colab-df-quickchart-complete:disabled:hover {\n",
              "    background-color: var(--disabled-bg-color);\n",
              "    fill: var(--disabled-fill-color);\n",
              "    box-shadow: none;\n",
              "  }\n",
              "\n",
              "  .colab-df-spinner {\n",
              "    border: 2px solid var(--fill-color);\n",
              "    border-color: transparent;\n",
              "    border-bottom-color: var(--fill-color);\n",
              "    animation:\n",
              "      spin 1s steps(1) infinite;\n",
              "  }\n",
              "\n",
              "  @keyframes spin {\n",
              "    0% {\n",
              "      border-color: transparent;\n",
              "      border-bottom-color: var(--fill-color);\n",
              "      border-left-color: var(--fill-color);\n",
              "    }\n",
              "    20% {\n",
              "      border-color: transparent;\n",
              "      border-left-color: var(--fill-color);\n",
              "      border-top-color: var(--fill-color);\n",
              "    }\n",
              "    30% {\n",
              "      border-color: transparent;\n",
              "      border-left-color: var(--fill-color);\n",
              "      border-top-color: var(--fill-color);\n",
              "      border-right-color: var(--fill-color);\n",
              "    }\n",
              "    40% {\n",
              "      border-color: transparent;\n",
              "      border-right-color: var(--fill-color);\n",
              "      border-top-color: var(--fill-color);\n",
              "    }\n",
              "    60% {\n",
              "      border-color: transparent;\n",
              "      border-right-color: var(--fill-color);\n",
              "    }\n",
              "    80% {\n",
              "      border-color: transparent;\n",
              "      border-right-color: var(--fill-color);\n",
              "      border-bottom-color: var(--fill-color);\n",
              "    }\n",
              "    90% {\n",
              "      border-color: transparent;\n",
              "      border-bottom-color: var(--fill-color);\n",
              "    }\n",
              "  }\n",
              "</style>\n",
              "\n",
              "      <script>\n",
              "        async function quickchart(key) {\n",
              "          const quickchartButtonEl =\n",
              "            document.querySelector('#' + key + ' button');\n",
              "          quickchartButtonEl.disabled = true;  // To prevent multiple clicks.\n",
              "          quickchartButtonEl.classList.add('colab-df-spinner');\n",
              "          try {\n",
              "            const charts = await google.colab.kernel.invokeFunction(\n",
              "                'suggestCharts', [key], {});\n",
              "          } catch (error) {\n",
              "            console.error('Error during call to suggestCharts:', error);\n",
              "          }\n",
              "          quickchartButtonEl.classList.remove('colab-df-spinner');\n",
              "          quickchartButtonEl.classList.add('colab-df-quickchart-complete');\n",
              "        }\n",
              "        (() => {\n",
              "          let quickchartButtonEl =\n",
              "            document.querySelector('#df-8511a16c-65fb-45e0-b4bc-f08b0098a85a button');\n",
              "          quickchartButtonEl.style.display =\n",
              "            google.colab.kernel.accessAllowed ? 'block' : 'none';\n",
              "        })();\n",
              "      </script>\n",
              "    </div>\n",
              "\n",
              "  <div id=\"id_c6d5d028-6dcf-4674-98d6-bb6102ce3e99\">\n",
              "    <style>\n",
              "      .colab-df-generate {\n",
              "        background-color: #E8F0FE;\n",
              "        border: none;\n",
              "        border-radius: 50%;\n",
              "        cursor: pointer;\n",
              "        display: none;\n",
              "        fill: #1967D2;\n",
              "        height: 32px;\n",
              "        padding: 0 0 0 0;\n",
              "        width: 32px;\n",
              "      }\n",
              "\n",
              "      .colab-df-generate:hover {\n",
              "        background-color: #E2EBFA;\n",
              "        box-shadow: 0px 1px 2px rgba(60, 64, 67, 0.3), 0px 1px 3px 1px rgba(60, 64, 67, 0.15);\n",
              "        fill: #174EA6;\n",
              "      }\n",
              "\n",
              "      [theme=dark] .colab-df-generate {\n",
              "        background-color: #3B4455;\n",
              "        fill: #D2E3FC;\n",
              "      }\n",
              "\n",
              "      [theme=dark] .colab-df-generate:hover {\n",
              "        background-color: #434B5C;\n",
              "        box-shadow: 0px 1px 3px 1px rgba(0, 0, 0, 0.15);\n",
              "        filter: drop-shadow(0px 1px 2px rgba(0, 0, 0, 0.3));\n",
              "        fill: #FFFFFF;\n",
              "      }\n",
              "    </style>\n",
              "    <button class=\"colab-df-generate\" onclick=\"generateWithVariable('df')\"\n",
              "            title=\"Generate code using this dataframe.\"\n",
              "            style=\"display:none;\">\n",
              "\n",
              "  <svg xmlns=\"http://www.w3.org/2000/svg\" height=\"24px\"viewBox=\"0 0 24 24\"\n",
              "       width=\"24px\">\n",
              "    <path d=\"M7,19H8.4L18.45,9,17,7.55,7,17.6ZM5,21V16.75L18.45,3.32a2,2,0,0,1,2.83,0l1.4,1.43a1.91,1.91,0,0,1,.58,1.4,1.91,1.91,0,0,1-.58,1.4L9.25,21ZM18.45,9,17,7.55Zm-12,3A5.31,5.31,0,0,0,4.9,8.1,5.31,5.31,0,0,0,1,6.5,5.31,5.31,0,0,0,4.9,4.9,5.31,5.31,0,0,0,6.5,1,5.31,5.31,0,0,0,8.1,4.9,5.31,5.31,0,0,0,12,6.5,5.46,5.46,0,0,0,6.5,12Z\"/>\n",
              "  </svg>\n",
              "    </button>\n",
              "    <script>\n",
              "      (() => {\n",
              "      const buttonEl =\n",
              "        document.querySelector('#id_c6d5d028-6dcf-4674-98d6-bb6102ce3e99 button.colab-df-generate');\n",
              "      buttonEl.style.display =\n",
              "        google.colab.kernel.accessAllowed ? 'block' : 'none';\n",
              "\n",
              "      buttonEl.onclick = () => {\n",
              "        google.colab.notebook.generateWithVariable('df');\n",
              "      }\n",
              "      })();\n",
              "    </script>\n",
              "  </div>\n",
              "\n",
              "    </div>\n",
              "  </div>\n"
            ],
            "application/vnd.google.colaboratory.intrinsic+json": {
              "type": "dataframe",
              "variable_name": "df",
              "summary": "{\n  \"name\": \"df\",\n  \"rows\": 3,\n  \"fields\": [\n    {\n      \"column\": \"date\",\n      \"properties\": {\n        \"dtype\": \"object\",\n        \"num_unique_values\": 2,\n        \"samples\": [\n          \"2025-09-09\",\n          \"2025-09-11\"\n        ],\n        \"semantic_type\": \"\",\n        \"description\": \"\"\n      }\n    },\n    {\n      \"column\": \"category\",\n      \"properties\": {\n        \"dtype\": \"string\",\n        \"num_unique_values\": 2,\n        \"samples\": [\n          \"\\u98f2\\u6599\",\n          \"\\u9910\\u98f2\"\n        ],\n        \"semantic_type\": \"\",\n        \"description\": \"\"\n      }\n    },\n    {\n      \"column\": \"item\",\n      \"properties\": {\n        \"dtype\": \"string\",\n        \"num_unique_values\": 3,\n        \"samples\": [\n          \"\\u5206\\u89e3\\u8336\",\n          \"\\u661f\\u5df4\\u514b\"\n        ],\n        \"semantic_type\": \"\",\n        \"description\": \"\"\n      }\n    },\n    {\n      \"column\": \"amount\",\n      \"properties\": {\n        \"dtype\": \"number\",\n        \"std\": 68.06859285554046,\n        \"min\": 35.0,\n        \"max\": 165.0,\n        \"num_unique_values\": 3,\n        \"samples\": [\n          35.0,\n          165.0\n        ],\n        \"semantic_type\": \"\",\n        \"description\": \"\"\n      }\n    },\n    {\n      \"column\": \"payer\",\n      \"properties\": {\n        \"dtype\": \"string\",\n        \"num_unique_values\": 2,\n        \"samples\": [\n          \"\\u6cbe\\u6cbe\",\n          \"\\u6211\"\n        ],\n        \"semantic_type\": \"\",\n        \"description\": \"\"\n      }\n    }\n  ]\n}"
            }
          },
          "metadata": {}
        }
      ]
    },
    {
      "cell_type": "code",
      "metadata": {
        "colab": {
          "base_uri": "https://localhost:8080/"
        },
        "id": "5c14c9e5",
        "outputId": "7f235a60-041b-427d-e65e-c2ac19e6179d"
      },
      "source": [
        "# Install gradio - This cell is necessary\n",
        "%pip install gradio"
      ],
      "execution_count": 26,
      "outputs": [
        {
          "output_type": "stream",
          "name": "stdout",
          "text": [
            "Requirement already satisfied: gradio in /usr/local/lib/python3.12/dist-packages (5.44.1)\n",
            "Requirement already satisfied: aiofiles<25.0,>=22.0 in /usr/local/lib/python3.12/dist-packages (from gradio) (24.1.0)\n",
            "Requirement already satisfied: anyio<5.0,>=3.0 in /usr/local/lib/python3.12/dist-packages (from gradio) (4.10.0)\n",
            "Requirement already satisfied: brotli>=1.1.0 in /usr/local/lib/python3.12/dist-packages (from gradio) (1.1.0)\n",
            "Requirement already satisfied: fastapi<1.0,>=0.115.2 in /usr/local/lib/python3.12/dist-packages (from gradio) (0.116.1)\n",
            "Requirement already satisfied: ffmpy in /usr/local/lib/python3.12/dist-packages (from gradio) (0.6.1)\n",
            "Requirement already satisfied: gradio-client==1.12.1 in /usr/local/lib/python3.12/dist-packages (from gradio) (1.12.1)\n",
            "Requirement already satisfied: groovy~=0.1 in /usr/local/lib/python3.12/dist-packages (from gradio) (0.1.2)\n",
            "Requirement already satisfied: httpx<1.0,>=0.24.1 in /usr/local/lib/python3.12/dist-packages (from gradio) (0.28.1)\n",
            "Requirement already satisfied: huggingface-hub<1.0,>=0.33.5 in /usr/local/lib/python3.12/dist-packages (from gradio) (0.34.4)\n",
            "Requirement already satisfied: jinja2<4.0 in /usr/local/lib/python3.12/dist-packages (from gradio) (3.1.6)\n",
            "Requirement already satisfied: markupsafe<4.0,>=2.0 in /usr/local/lib/python3.12/dist-packages (from gradio) (3.0.2)\n",
            "Requirement already satisfied: numpy<3.0,>=1.0 in /usr/local/lib/python3.12/dist-packages (from gradio) (2.0.2)\n",
            "Requirement already satisfied: orjson~=3.0 in /usr/local/lib/python3.12/dist-packages (from gradio) (3.11.3)\n",
            "Requirement already satisfied: packaging in /usr/local/lib/python3.12/dist-packages (from gradio) (25.0)\n",
            "Requirement already satisfied: pandas<3.0,>=1.0 in /usr/local/lib/python3.12/dist-packages (from gradio) (2.2.2)\n",
            "Requirement already satisfied: pillow<12.0,>=8.0 in /usr/local/lib/python3.12/dist-packages (from gradio) (11.3.0)\n",
            "Requirement already satisfied: pydantic<2.12,>=2.0 in /usr/local/lib/python3.12/dist-packages (from gradio) (2.11.7)\n",
            "Requirement already satisfied: pydub in /usr/local/lib/python3.12/dist-packages (from gradio) (0.25.1)\n",
            "Requirement already satisfied: python-multipart>=0.0.18 in /usr/local/lib/python3.12/dist-packages (from gradio) (0.0.20)\n",
            "Requirement already satisfied: pyyaml<7.0,>=5.0 in /usr/local/lib/python3.12/dist-packages (from gradio) (6.0.2)\n",
            "Requirement already satisfied: ruff>=0.9.3 in /usr/local/lib/python3.12/dist-packages (from gradio) (0.12.12)\n",
            "Requirement already satisfied: safehttpx<0.2.0,>=0.1.6 in /usr/local/lib/python3.12/dist-packages (from gradio) (0.1.6)\n",
            "Requirement already satisfied: semantic-version~=2.0 in /usr/local/lib/python3.12/dist-packages (from gradio) (2.10.0)\n",
            "Requirement already satisfied: starlette<1.0,>=0.40.0 in /usr/local/lib/python3.12/dist-packages (from gradio) (0.47.3)\n",
            "Requirement already satisfied: tomlkit<0.14.0,>=0.12.0 in /usr/local/lib/python3.12/dist-packages (from gradio) (0.13.3)\n",
            "Requirement already satisfied: typer<1.0,>=0.12 in /usr/local/lib/python3.12/dist-packages (from gradio) (0.17.4)\n",
            "Requirement already satisfied: typing-extensions~=4.0 in /usr/local/lib/python3.12/dist-packages (from gradio) (4.15.0)\n",
            "Requirement already satisfied: uvicorn>=0.14.0 in /usr/local/lib/python3.12/dist-packages (from gradio) (0.35.0)\n",
            "Requirement already satisfied: fsspec in /usr/local/lib/python3.12/dist-packages (from gradio-client==1.12.1->gradio) (2025.3.0)\n",
            "Requirement already satisfied: websockets<16.0,>=10.0 in /usr/local/lib/python3.12/dist-packages (from gradio-client==1.12.1->gradio) (15.0.1)\n",
            "Requirement already satisfied: idna>=2.8 in /usr/local/lib/python3.12/dist-packages (from anyio<5.0,>=3.0->gradio) (3.10)\n",
            "Requirement already satisfied: sniffio>=1.1 in /usr/local/lib/python3.12/dist-packages (from anyio<5.0,>=3.0->gradio) (1.3.1)\n",
            "Requirement already satisfied: certifi in /usr/local/lib/python3.12/dist-packages (from httpx<1.0,>=0.24.1->gradio) (2025.8.3)\n",
            "Requirement already satisfied: httpcore==1.* in /usr/local/lib/python3.12/dist-packages (from httpx<1.0,>=0.24.1->gradio) (1.0.9)\n",
            "Requirement already satisfied: h11>=0.16 in /usr/local/lib/python3.12/dist-packages (from httpcore==1.*->httpx<1.0,>=0.24.1->gradio) (0.16.0)\n",
            "Requirement already satisfied: filelock in /usr/local/lib/python3.12/dist-packages (from huggingface-hub<1.0,>=0.33.5->gradio) (3.19.1)\n",
            "Requirement already satisfied: requests in /usr/local/lib/python3.12/dist-packages (from huggingface-hub<1.0,>=0.33.5->gradio) (2.32.4)\n",
            "Requirement already satisfied: tqdm>=4.42.1 in /usr/local/lib/python3.12/dist-packages (from huggingface-hub<1.0,>=0.33.5->gradio) (4.67.1)\n",
            "Requirement already satisfied: hf-xet<2.0.0,>=1.1.3 in /usr/local/lib/python3.12/dist-packages (from huggingface-hub<1.0,>=0.33.5->gradio) (1.1.9)\n",
            "Requirement already satisfied: python-dateutil>=2.8.2 in /usr/local/lib/python3.12/dist-packages (from pandas<3.0,>=1.0->gradio) (2.9.0.post0)\n",
            "Requirement already satisfied: pytz>=2020.1 in /usr/local/lib/python3.12/dist-packages (from pandas<3.0,>=1.0->gradio) (2025.2)\n",
            "Requirement already satisfied: tzdata>=2022.7 in /usr/local/lib/python3.12/dist-packages (from pandas<3.0,>=1.0->gradio) (2025.2)\n",
            "Requirement already satisfied: annotated-types>=0.6.0 in /usr/local/lib/python3.12/dist-packages (from pydantic<2.12,>=2.0->gradio) (0.7.0)\n",
            "Requirement already satisfied: pydantic-core==2.33.2 in /usr/local/lib/python3.12/dist-packages (from pydantic<2.12,>=2.0->gradio) (2.33.2)\n",
            "Requirement already satisfied: typing-inspection>=0.4.0 in /usr/local/lib/python3.12/dist-packages (from pydantic<2.12,>=2.0->gradio) (0.4.1)\n",
            "Requirement already satisfied: click>=8.0.0 in /usr/local/lib/python3.12/dist-packages (from typer<1.0,>=0.12->gradio) (8.2.1)\n",
            "Requirement already satisfied: shellingham>=1.3.0 in /usr/local/lib/python3.12/dist-packages (from typer<1.0,>=0.12->gradio) (1.5.4)\n",
            "Requirement already satisfied: rich>=10.11.0 in /usr/local/lib/python3.12/dist-packages (from typer<1.0,>=0.12->gradio) (13.9.4)\n",
            "Requirement already satisfied: six>=1.5 in /usr/local/lib/python3.12/dist-packages (from python-dateutil>=2.8.2->pandas<3.0,>=1.0->gradio) (1.17.0)\n",
            "Requirement already satisfied: markdown-it-py>=2.2.0 in /usr/local/lib/python3.12/dist-packages (from rich>=10.11.0->typer<1.0,>=0.12->gradio) (4.0.0)\n",
            "Requirement already satisfied: pygments<3.0.0,>=2.13.0 in /usr/local/lib/python3.12/dist-packages (from rich>=10.11.0->typer<1.0,>=0.12->gradio) (2.19.2)\n",
            "Requirement already satisfied: charset_normalizer<4,>=2 in /usr/local/lib/python3.12/dist-packages (from requests->huggingface-hub<1.0,>=0.33.5->gradio) (3.4.3)\n",
            "Requirement already satisfied: urllib3<3,>=1.21.1 in /usr/local/lib/python3.12/dist-packages (from requests->huggingface-hub<1.0,>=0.33.5->gradio) (2.5.0)\n",
            "Requirement already satisfied: mdurl~=0.1 in /usr/local/lib/python3.12/dist-packages (from markdown-it-py>=2.2.0->rich>=10.11.0->typer<1.0,>=0.12->gradio) (0.1.2)\n"
          ]
        }
      ]
    },
    {
      "cell_type": "markdown",
      "metadata": {
        "id": "19ca31e6"
      },
      "source": [
        "## Structure the code into functions\n",
        "\n",
        "### Subtask:\n",
        "Organize the existing code into logical functions for better code management and reusability.\n"
      ]
    },
    {
      "cell_type": "markdown",
      "metadata": {
        "id": "848d48a1"
      },
      "source": [
        "**Reasoning**:\n",
        "Define functions to authenticate, connect to Google Sheets, read expense data, add new expense records, write data back to the sheet, and calculate summary statistics, grouping several instructions into one code block for efficiency.\n",
        "\n"
      ]
    },
    {
      "cell_type": "code",
      "metadata": {
        "id": "8c7b7d66"
      },
      "source": [
        "# Code organized into functions for Google Sheets interaction and expense data handling.\n",
        "# This cell can be kept as it contains the core functions used by the Gradio interface.\n",
        "\n",
        "import datetime\n",
        "from dateutil.relativedelta import relativedelta\n",
        "import pandas as pd\n",
        "import gspread\n",
        "from google.colab import auth\n",
        "from google.auth import default\n",
        "\n",
        "def authenticate_and_connect(sheet_url):\n",
        "    \"\"\"Authenticates and connects to the Google Sheet.\"\"\"\n",
        "    auth.authenticate_user()\n",
        "    creds, _ = default()\n",
        "    gc = gspread.authorize(creds)\n",
        "    gsheets = gc.open_by_url(sheet_url)\n",
        "    return gsheets\n",
        "\n",
        "def read_expense_data(gsheets_obj):\n",
        "    \"\"\"Reads expense data from the '工作表1' worksheet into a pandas DataFrame.\"\"\"\n",
        "    worksheet = gsheets_obj.worksheet('工作表1')\n",
        "    sheets = worksheet.get_all_values()\n",
        "    if not sheets:\n",
        "        # Return an empty DataFrame with expected columns if sheet is empty\n",
        "        return pd.DataFrame(columns=['date', 'category', 'item', 'amount', 'payer'])\n",
        "    df = pd.DataFrame(sheets[1:], columns=sheets[0])\n",
        "    # Ensure 'amount' is numeric and 'date' is datetime\n",
        "    df['amount'] = pd.to_numeric(df['amount'], errors='coerce')\n",
        "    df['date'] = pd.to_datetime(df['date'], errors='coerce')\n",
        "    return df\n",
        "\n",
        "def add_expense_record(df, date_str, category, item, amount, payer):\n",
        "    \"\"\"Appends a new expense record to the DataFrame.\"\"\"\n",
        "    new_data = pd.DataFrame([{\n",
        "        'date': date_str,\n",
        "        'category': category,\n",
        "        'item': item,\n",
        "        'amount': amount,\n",
        "        'payer': payer\n",
        "    }])\n",
        "    updated_df = pd.concat([df, new_data], ignore_index=True)\n",
        "    # Ensure 'amount' is numeric and 'date' is datetime after concat\n",
        "    updated_df['amount'] = pd.to_numeric(updated_df['amount'], errors='coerce')\n",
        "    updated_df['date'] = pd.to_datetime(updated_df['date'], errors='coerce')\n",
        "    return updated_df\n",
        "\n",
        "def write_expense_data(df, gsheets_obj):\n",
        "    \"\"\"Writes the DataFrame back to the '工作表1' worksheet.\"\"\"\n",
        "    # Convert date column to string format before writing\n",
        "    df_to_write = df.copy()\n",
        "    df_to_write['date'] = df_to_write['date'].dt.strftime('%Y-%m-%d') if pd.api.types.is_datetime64_any_dtype(df_to_write['date']) else df_to_write['date'].astype(str)\n",
        "\n",
        "    data_to_write = [df_to_write.columns.tolist()] + df_to_write.values.tolist()\n",
        "    worksheet = gsheets_obj.worksheet('工作表1')\n",
        "    worksheet.clear()\n",
        "    worksheet.append_rows(values=data_to_write, value_input_option='USER_ENTERED')\n",
        "    print(\"Updated data has been successfully written back to Google Sheet.\")\n",
        "\n",
        "\n",
        "def calculate_summary_statistics(df):\n",
        "    \"\"\"Calculates summary statistics from the DataFrame.\"\"\"\n",
        "    # Ensure 'amount' is numeric before calculations\n",
        "    df['amount'] = pd.to_numeric(df['amount'], errors='coerce')\n",
        "\n",
        "    total_amount = df['amount'].sum()\n",
        "\n",
        "    category_subtotals = df.groupby('category')['amount'].sum().reset_index()\n",
        "\n",
        "    unique_payers = df['payer'].unique()\n",
        "    num_payers = len(unique_payers)\n",
        "    aa_split_amount = total_amount / num_payers if num_payers > 0 else 0\n",
        "\n",
        "    payer_totals = df.groupby('payer')['amount'].sum().reset_index()\n",
        "\n",
        "    payer_balance = payer_totals.copy()\n",
        "    payer_balance['balance'] = payer_balance['amount'] - aa_split_amount\n",
        "\n",
        "    return total_amount, category_subtotals, aa_split_amount, payer_totals, payer_balance\n",
        "\n",
        "def write_summary_sheet(gsheets_obj, total_amount, category_subtotals, aa_split_amount, payer_totals, payer_balance, spending_analysis_and_advice=None):\n",
        "    \"\"\"Writes the summary statistics and AI analysis to the 'Summary' sheet.\"\"\"\n",
        "    try:\n",
        "        summary_sheet = gsheets_obj.worksheet('Summary')\n",
        "    except gspread.WorksheetNotFound:\n",
        "        summary_sheet = gsheets_obj.add_worksheet(title=\"Summary\", rows=\"100\", cols=\"20\")\n",
        "\n",
        "    summary_sheet.clear()\n",
        "\n",
        "    summary_sheet.update_cell(1, 1, '總支出金額')\n",
        "    summary_sheet.update_cell(1, 2, total_amount)\n",
        "\n",
        "    summary_sheet.update_cell(3, 1, '各類別支出小計')\n",
        "    summary_sheet.update([category_subtotals.columns.tolist()], 'A4')\n",
        "    category_subtotals_list = category_subtotals.values.tolist()\n",
        "    for row in category_subtotals_list:\n",
        "        row[1] = str(row[1])\n",
        "    summary_sheet.update(category_subtotals_list, 'A5')\n",
        "\n",
        "    summary_sheet.update_cell(7, 1, 'AA 分攤金額 (每人)')\n",
        "    summary_sheet.update_cell(7, 2, aa_split_amount)\n",
        "\n",
        "    summary_sheet.update_cell(9, 1, '每人總支付金額')\n",
        "    summary_sheet.update([payer_totals.columns.tolist()], 'A10')\n",
        "    payer_totals_list = payer_totals.values.tolist()\n",
        "    summary_sheet.update(payer_totals_list, 'A11')\n",
        "\n",
        "    summary_sheet.update_cell(13, 1, '每人應收/應付金額')\n",
        "    summary_sheet.update([payer_balance.columns.tolist()], 'A14')\n",
        "    payer_balance_list = payer_balance.values.tolist()\n",
        "    summary_sheet.update(payer_balance_list, 'A15')\n",
        "\n",
        "    ai_analysis_start_row = 17\n",
        "    summary_sheet.update_cell(ai_analysis_start_row, 1, 'AI 支出分析與建議')\n",
        "    if spending_analysis_and_advice:\n",
        "        analysis_lines = spending_analysis_and_advice.split('\\n')\n",
        "        analysis_data_to_write = [[line] for line in analysis_lines]\n",
        "        analysis_range = f'A{ai_analysis_start_row + 1}'\n",
        "        summary_sheet.update(analysis_data_to_write, analysis_range)\n",
        "    else:\n",
        "        summary_sheet.update_cell(ai_analysis_start_row + 1, 1, '尚未執行 AI 支出分析。')\n",
        "\n",
        "    print(\"總計、分類小計、AA 分攤和 AI 分析資訊已更新至 Summary 分頁！\")"
      ],
      "execution_count": 23,
      "outputs": []
    },
    {
      "cell_type": "markdown",
      "metadata": {
        "id": "672f063a"
      },
      "source": [
        "**Reasoning**:\n",
        "Define functions for handling budget data, including reading budgets, calculating spending within budget periods, comparing spending to budget, and generating a budget report string, grouping several instructions into one code block for efficiency.\n",
        "\n"
      ]
    },
    {
      "cell_type": "code",
      "metadata": {
        "id": "f9d47421"
      },
      "source": [
        "# Code organized into functions for budget data handling and reporting.\n",
        "# This cell can be kept as it contains the core functions used by the Gradio interface.\n",
        "\n",
        "def get_budget_data(gsheets_obj):\n",
        "    \"\"\"Reads budget data from the 'Budgets' sheet into a pandas DataFrame.\"\"\"\n",
        "    try:\n",
        "        budgets_sheet = gsheets_obj.worksheet('Budgets')\n",
        "        budget_data = budgets_sheet.get_all_values()\n",
        "        if len(budget_data) > 1:\n",
        "            budget_df = pd.DataFrame(budget_data[1:], columns=budget_data[0])\n",
        "            # Ensure date and amount columns are in correct format\n",
        "            budget_df['Start Date'] = pd.to_datetime(budget_df['Start Date'], errors='coerce')\n",
        "            budget_df['End Date'] = pd.to_datetime(budget_df['End Date'], errors='coerce')\n",
        "            budget_df['Amount'] = pd.to_numeric(budget_df['Amount'], errors='coerce')\n",
        "        else:\n",
        "            budget_df = pd.DataFrame(columns=['Budget Name', 'Period', 'Start Date', 'End Date', 'Amount', 'Category'])\n",
        "            print(\"No budget data found in the 'Budgets' sheet.\")\n",
        "    except gspread.WorksheetNotFound:\n",
        "        print(\"Sheet 'Budgets' not found. Please create it and add budget data.\")\n",
        "        budget_df = pd.DataFrame(columns=['Budget Name', 'Period', 'Start Date', 'End Date', 'Amount', 'Category'])\n",
        "    except Exception as e:\n",
        "        print(f\"An error occurred while reading the 'Budgets' sheet: {e}\")\n",
        "        budget_df = pd.DataFrame(columns=['Budget Name', 'Period', 'Start Date', 'End Date', 'Amount', 'Category'])\n",
        "    return budget_df\n",
        "\n",
        "def calculate_spending_within_budgets(df, budget_df):\n",
        "    \"\"\"Calculates spending for each budget based on the expense data.\"\"\"\n",
        "    if budget_df.empty or df.empty:\n",
        "        budget_df['Spending'] = 0.0 # Add spending column even if empty\n",
        "        return budget_df\n",
        "\n",
        "    # Ensure df's date column is datetime and amount is numeric\n",
        "    df['date'] = pd.to_datetime(df['date'], errors='coerce')\n",
        "    df['amount'] = pd.to_numeric(df['amount'], errors='coerce')\n",
        "\n",
        "    budget_df['Spending'] = 0.0\n",
        "\n",
        "    for index, budget_row in budget_df.iterrows():\n",
        "        start_date = budget_row['Start Date']\n",
        "        end_date = budget_row['End Date']\n",
        "        category = budget_row['Category']\n",
        "\n",
        "        filtered_spending = df[(df['date'] >= start_date) & (df['date'] <= end_date)].copy()\n",
        "\n",
        "        if pd.notna(category) and category != '':\n",
        "            filtered_spending = filtered_spending[filtered_spending['category'] == category].copy()\n",
        "\n",
        "        total_spending_for_budget = filtered_spending['amount'].sum()\n",
        "        budget_df.loc[index, 'Spending'] = total_spending_for_budget\n",
        "\n",
        "    return budget_df\n",
        "\n",
        "def compare_spending_to_budget(budget_df):\n",
        "    \"\"\"Compares spending to budget and adds status columns.\"\"\"\n",
        "    if budget_df.empty:\n",
        "        budget_df['Remaining/Overspent'] = 0.0\n",
        "        budget_df['Status'] = 'N/A'\n",
        "        return budget_df\n",
        "\n",
        "    budget_df['Remaining/Overspent'] = budget_df['Amount'] - budget_df['Spending']\n",
        "\n",
        "    def categorize_budget_status(row):\n",
        "        if row['Remaining/Overspent'] >= 0:\n",
        "            return 'Within Budget'\n",
        "        else:\n",
        "            return 'Over Budget'\n",
        "\n",
        "    budget_df['Status'] = budget_df.apply(categorize_budget_status, axis=1)\n",
        "    return budget_df\n",
        "\n",
        "def generate_budget_report_string(budget_df):\n",
        "    \"\"\"Generates a formatted budget report string.\"\"\"\n",
        "    budget_report_lines = [\"=== 預算報告 ===\"]\n",
        "\n",
        "    if budget_df.empty:\n",
        "        budget_report_lines.append(\"目前沒有預算數據可供報告。\")\n",
        "    else:\n",
        "        for index, budget_row in budget_df.iterrows():\n",
        "            budget_name = budget_row['Budget Name']\n",
        "            start_date = budget_row['Start Date'].strftime('%Y-%m-%d') if pd.notna(budget_row['Start Date']) else 'N/A'\n",
        "            end_date = budget_row['End Date'].strftime('%Y-%m-%d') if pd.notna(budget_row['End Date']) else 'N/A'\n",
        "            budgeted_amount = budget_row['Amount']\n",
        "            actual_spending = budget_row['Spending']\n",
        "            remaining_overspent = budget_row['Remaining/Overspent']\n",
        "            status = budget_row['Status']\n",
        "            category = budget_row['Category'] if pd.notna(budget_row['Category']) and budget_row['Category'] != '' else '總體'\n",
        "\n",
        "            budget_report_lines.append(f\"\\n預算名稱: {budget_name}\")\n",
        "            budget_report_lines.append(f\"期間: {start_date} 至 {end_date}\")\n",
        "            budget_report_lines.append(f\"類別: {category}\")\n",
        "            budget_report_lines.append(f\"預算金額: {budgeted_amount:.2f}\")\n",
        "            budget_report_lines.append(f\"實際支出: {actual_spending:.2f}\")\n",
        "            budget_report_lines.append(f\"剩餘/超支金額: {remaining_overspent:.2f}\")\n",
        "            budget_report_lines.append(f\"狀態: {status}\")\n",
        "\n",
        "    return \"\\n\".join(budget_report_lines)"
      ],
      "execution_count": 24,
      "outputs": []
    },
    {
      "cell_type": "markdown",
      "metadata": {
        "id": "0a2783bb"
      },
      "source": [
        "**Reasoning**:\n",
        "Define the functions to generate periodic reports and write both periodic and budget reports to the Google Sheet, fulfilling the remaining instructions for organizing the code into functions.\n",
        "\n"
      ]
    },
    {
      "cell_type": "code",
      "metadata": {
        "id": "306905eb"
      },
      "source": [
        "# Code organized into functions for periodic report generation and writing reports to Google Sheets.\n",
        "# This cell can be kept as it contains the core functions used by the Gradio interface.\n",
        "\n",
        "def generate_periodic_report_string(df, report_start_date, report_end_date, report_period_name):\n",
        "    \"\"\"Generates a formatted periodic report string based on a date range.\"\"\"\n",
        "    # Ensure the 'date' column in the expense DataFrame is in date format for comparison\n",
        "    df['date'] = pd.to_datetime(df['date'], errors='coerce').dt.date\n",
        "    df['amount'] = pd.to_numeric(df['amount'], errors='coerce')\n",
        "\n",
        "    # Filter the main expense DataFrame (`df`) to include only transactions within the report_start_date and report_end_date.\n",
        "    filtered_spending_for_report = df[(df['date'] >= report_start_date) & (df['date'] <= report_end_date)].copy()\n",
        "\n",
        "    # Calculate the total spending for this filtered period.\n",
        "    total_spending_period = filtered_spending_for_report['amount'].sum()\n",
        "\n",
        "    # Calculate the category subtotals for the filtered spending data.\n",
        "    category_subtotals_period = filtered_spending_for_report.groupby('category')['amount'].sum().reset_index()\n",
        "\n",
        "    # Calculate the total amount paid by each person within the filtered period.\n",
        "    payer_totals_period = filtered_spending_for_report.groupby('payer')['amount'].sum().reset_index()\n",
        "\n",
        "    # Format the calculated total spending, category subtotals, and payer totals into a readable report string.\n",
        "    periodic_report_lines = [f\"=== {report_period_name} ({report_start_date.strftime('%Y-%m-%d')} 至 {report_end_date.strftime('%Y-%m-%d')}) 支出報告 ===\"]\n",
        "    periodic_report_lines.append(f\"\\n總支出金額: {total_spending_period:.2f}元\")\n",
        "\n",
        "    if not category_subtotals_period.empty:\n",
        "        periodic_report_lines.append(\"\\n各類別支出小計:\")\n",
        "        for index, row in category_subtotals_period.iterrows():\n",
        "            periodic_report_lines.append(f\"- {row['category']}: {row['amount']:.2f}元\")\n",
        "    else:\n",
        "        periodic_report_lines.append(\"\\n此期間沒有類別支出數據。\")\n",
        "\n",
        "    if not payer_totals_period.empty:\n",
        "        periodic_report_lines.append(\"\\n每人總支付金額:\")\n",
        "        for index, row in payer_totals_period.iterrows():\n",
        "            periodic_report_lines.append(f\"- {row['payer']}: {row['amount']:.2f}元\")\n",
        "    else:\n",
        "        periodic_report_lines.append(\"\\n此期間沒有支付者數據。\")\n",
        "\n",
        "    return \"\\n\".join(periodic_report_lines)\n",
        "\n",
        "def write_reports_sheet(gsheets_obj, periodic_report_string, budget_report_string):\n",
        "    \"\"\"Writes the periodic and budget reports to the 'Reports' sheet.\"\"\"\n",
        "    try:\n",
        "        reports_sheet = gsheets_obj.worksheet('Reports')\n",
        "        print(\"Sheet 'Reports' already exists, clearing it.\")\n",
        "        reports_sheet.clear()\n",
        "    except gspread.WorksheetNotFound:\n",
        "        print(\"Creating new sheet 'Reports'.\")\n",
        "        reports_sheet = gsheets_obj.add_worksheet(title=\"Reports\", rows=\"200\", cols=\"20\")\n",
        "\n",
        "    periodic_report_start_row_reports = 1\n",
        "    budget_report_start_row_reports = periodic_report_start_row_reports + len(periodic_report_string.split('\\n')) + 5\n",
        "\n",
        "    reports_sheet.update_cell(periodic_report_start_row_reports, 1, '=== 週期支出報告 ===')\n",
        "    periodic_report_lines = periodic_report_string.split('\\n')\n",
        "    if periodic_report_lines:\n",
        "        periodic_report_data_to_write = [[line] for line in periodic_report_lines]\n",
        "        periodic_report_range = f'A{periodic_report_start_row_reports + 1}'\n",
        "        reports_sheet.update(periodic_report_data_to_write, periodic_report_range)\n",
        "\n",
        "    reports_sheet.update_cell(budget_report_start_row_reports, 1, '=== 預算報告 ===')\n",
        "    budget_report_lines = budget_report_string.split('\\n')\n",
        "    if budget_report_lines:\n",
        "        budget_report_data_to_write = [[line] for line in budget_report_lines]\n",
        "        budget_report_range = f'A{budget_report_start_row_reports + 1}'\n",
        "        reports_sheet.update(budget_report_data_to_write, budget_report_range)\n",
        "\n",
        "    print(\"週期支出報告和預算報告已寫入 Reports 分頁！\")"
      ],
      "execution_count": 25,
      "outputs": []
    },
    {
      "cell_type": "markdown",
      "metadata": {
        "id": "f7cf8ec0"
      },
      "source": [
        "## Create a gradio interface\n",
        "\n",
        "### Subtask:\n",
        "Build the Gradio interface using the defined functions to allow user interaction.\n"
      ]
    },
    {
      "cell_type": "markdown",
      "metadata": {
        "id": "e411363e"
      },
      "source": [
        "**Reasoning**:\n",
        "Build the Gradio interface using the defined functions to allow user interaction.\n",
        "\n"
      ]
    },
    {
      "cell_type": "code",
      "metadata": {
        "colab": {
          "base_uri": "https://localhost:8080/",
          "height": 611
        },
        "id": "6014bfc8",
        "outputId": "332ea3bb-b131-4a43-ab59-dc4bed5e7889"
      },
      "source": [
        "import gradio as gr\n",
        "import pandas as pd\n",
        "import datetime\n",
        "from dateutil.relativedelta import relativedelta\n",
        "\n",
        "# Define the Google Sheet URL\n",
        "SHEET_URL = 'https://docs.google.com/spreadsheets/d/1KekcvnaCy4MsLsbi04U0KCeys7dnh-JxCCeHkk9xKFE/edit?usp=sharing'\n",
        "\n",
        "def main_interface_logic(action, date_str=None, category=None, item=None, amount=None, payer=None, report_period_choice=None, custom_start_date_str=None, custom_end_date_str=None):\n",
        "    \"\"\"\n",
        "    Orchestrates the data processing and reporting based on Gradio user input.\n",
        "    \"\"\"\n",
        "    gsheets_obj = authenticate_and_connect(SHEET_URL)\n",
        "    df = read_expense_data(gsheets_obj)\n",
        "\n",
        "    output_message = \"\"\n",
        "    periodic_report_output = \"\"\n",
        "    budget_report_output = \"\"\n",
        "\n",
        "    if action == \"add_expense\":\n",
        "        if date_str and category and item and amount is not None and payer:\n",
        "            try:\n",
        "                # Validate date format\n",
        "                datetime.datetime.strptime(date_str, '%Y-%m-%d')\n",
        "                # Ensure amount is a float\n",
        "                amount = float(amount)\n",
        "\n",
        "                df = add_expense_record(df, date_str, category, item, amount, payer)\n",
        "                write_expense_data(df, gsheets_obj)\n",
        "                # Recalculate and write summary after adding expense\n",
        "                total_amount, category_subtotals, aa_split_amount, payer_totals, payer_balance = calculate_summary_statistics(df)\n",
        "                write_summary_sheet(gsheets_obj, total_amount, category_subtotals, aa_split_amount, payer_totals, payer_balance) # AI analysis is optional here for simplicity\n",
        "                output_message = \"新的支出紀錄已成功新增並更新至 Google Sheet 及 Summary 分頁。\"\n",
        "            except ValueError as e:\n",
        "                output_message = f\"輸入錯誤: {e}. 請檢查日期和金額格式。\"\n",
        "        else:\n",
        "            output_message = \"請填寫所有支出紀錄欄位。\"\n",
        "\n",
        "    elif action == \"generate_reports\":\n",
        "        if report_period_choice:\n",
        "            today = datetime.date.today()\n",
        "            report_start_date = None\n",
        "            report_end_date = None\n",
        "            report_period_name = \"\"\n",
        "\n",
        "            if report_period_choice == '上週':\n",
        "                last_sunday = today - relativedelta(days=today.weekday() + 1)\n",
        "                last_monday = last_sunday - relativedelta(days=6)\n",
        "                report_start_date = last_monday\n",
        "                report_end_date = last_sunday\n",
        "                report_period_name = \"上週\"\n",
        "            elif report_period_choice == '上個月':\n",
        "                first_day_of_current_month = today.replace(day=1)\n",
        "                last_day_of_last_month = first_day_of_current_month - relativedelta(days=1)\n",
        "                first_day_of_last_month = last_day_of_last_month.replace(day=1)\n",
        "                report_start_date = first_day_of_last_month\n",
        "                report_end_date = last_day_of_last_month\n",
        "                report_period_name = \"上個月\"\n",
        "            elif report_period_choice == '自訂日期範圍':\n",
        "                if custom_start_date_str and custom_end_date_str:\n",
        "                    try:\n",
        "                        report_start_date = datetime.datetime.strptime(custom_start_date_str, '%Y-%m-%d').date()\n",
        "                        report_end_date = datetime.datetime.strptime(custom_end_date_str, '%Y-%m-%d').date()\n",
        "                        if report_start_date > report_end_date:\n",
        "                            output_message = \"自訂日期範圍錯誤：開始日期不能晚於結束日期。\"\n",
        "                            return output_message, \"\", \"\"\n",
        "                        report_period_name = \"自訂日期範圍\"\n",
        "                    except ValueError:\n",
        "                        output_message = \"自訂日期格式錯誤，請使用 YYYY-MM-DD 格式。\"\n",
        "                        return output_message, \"\", \"\"\n",
        "                else:\n",
        "                    output_message = \"請輸入自訂報告的開始日期和結束日期。\"\n",
        "                    return output_message, \"\", \"\"\n",
        "\n",
        "            # Generate Periodic Report\n",
        "            if report_start_date and report_end_date:\n",
        "                 periodic_report_output = generate_periodic_report_string(df, report_start_date, report_end_date, report_period_name)\n",
        "            else:\n",
        "                 periodic_report_output = \"請選擇或輸入有效的報告期間。\"\n",
        "\n",
        "\n",
        "            # Generate Budget Report\n",
        "            budget_df = get_budget_data(gsheets_obj)\n",
        "            budget_df = calculate_spending_within_budgets(df, budget_df)\n",
        "            budget_df = compare_spending_to_budget(budget_df)\n",
        "            budget_report_output = generate_budget_report_string(budget_df)\n",
        "\n",
        "            # Write reports to Reports sheet\n",
        "            write_reports_sheet(gsheets_obj, periodic_report_output, budget_report_output)\n",
        "            output_message = \"報告已生成並更新至 Reports 分頁。\"\n",
        "        else:\n",
        "            output_message = \"請選擇報告期間。\"\n",
        "\n",
        "    return output_message, periodic_report_output, budget_report_output\n",
        "\n",
        "# Define Gradio Interface\n",
        "with gr.Blocks() as demo:\n",
        "    gr.Markdown(\"# 日常支出管理與報告\")\n",
        "\n",
        "    with gr.Tab(\"新增支出紀錄\"):\n",
        "        gr.Markdown(\"在此輸入新的支出紀錄。\")\n",
        "        expense_date = gr.Textbox(label=\"日期 (YYYY-MM-DD)\", placeholder=\"例如：2023-10-27\")\n",
        "        expense_category = gr.Textbox(label=\"類別\", placeholder=\"例如：餐飲、交通\")\n",
        "        expense_item = gr.Textbox(label=\"品項\", placeholder=\"例如：午餐、公車票\")\n",
        "        expense_amount = gr.Number(label=\"金額\", placeholder=\"例如：100\")\n",
        "        expense_payer = gr.Textbox(label=\"支付者\", placeholder=\"例如：我, 朋友A\")\n",
        "        add_expense_btn = gr.Button(\"新增紀錄\")\n",
        "        add_expense_output = gr.Textbox(label=\"狀態訊息\")\n",
        "\n",
        "        add_expense_btn.click(\n",
        "            fn=lambda d, c, i, a, p: main_interface_logic(\"add_expense\", date_str=d, category=c, item=i, amount=a, payer=p),\n",
        "            inputs=[expense_date, expense_category, expense_item, expense_amount, expense_payer],\n",
        "            outputs=[add_expense_output, gr.State(), gr.State()] # Output message, and two dummy outputs to match main_interface_logic\n",
        "        )\n",
        "\n",
        "    with gr.Tab(\"生成報告\"):\n",
        "        gr.Markdown(\"選擇期間以生成支出報告和預算報告。\")\n",
        "        report_period_selection = gr.Dropdown(\n",
        "            choices=['上週', '上個月', '自訂日期範圍'],\n",
        "            label=\"選擇報告期間\"\n",
        "        )\n",
        "        custom_start_date = gr.Textbox(label=\"自訂開始日期 (YYYY-MM-DD)\", placeholder=\"例如：2023-10-01\", visible=False)\n",
        "        custom_end_date = gr.Textbox(label=\"自訂結束日期 (YYYY-MM-DD)\", placeholder=\"例如：2023-10-31\", visible=False)\n",
        "\n",
        "        # Show/hide custom date fields based on dropdown selection\n",
        "        def toggle_custom_dates(choice):\n",
        "            if choice == '自訂日期範圍':\n",
        "                return gr.update(visible=True), gr.update(visible=True)\n",
        "            else:\n",
        "                return gr.update(visible=False), gr.update(visible=False)\n",
        "\n",
        "        report_period_selection.change(\n",
        "            fn=toggle_custom_dates,\n",
        "            inputs=report_period_selection,\n",
        "            outputs=[custom_start_date, custom_end_date]\n",
        "        )\n",
        "\n",
        "        generate_report_btn = gr.Button(\"生成報告\")\n",
        "        report_status_output = gr.Textbox(label=\"報告生成狀態\")\n",
        "        periodic_report_display = gr.Textbox(label=\"週期支出報告\", lines=10)\n",
        "        budget_report_display = gr.Textbox(label=\"預算報告\", lines=10)\n",
        "\n",
        "        generate_report_btn.click(\n",
        "            fn=lambda choice, start_date_str, end_date_str: main_interface_logic(\"generate_reports\", report_period_choice=choice, custom_start_date_str=start_date_str, custom_end_date_str=end_date_str),\n",
        "            inputs=[report_period_selection, custom_start_date, custom_end_date],\n",
        "            outputs=[report_status_output, periodic_report_display, budget_report_display]\n",
        "        )\n",
        "\n",
        "# Launch the Gradio app\n",
        "demo.launch(share=True)"
      ],
      "execution_count": 5,
      "outputs": [
        {
          "output_type": "stream",
          "name": "stdout",
          "text": [
            "Colab notebook detected. To show errors in colab notebook, set debug=True in launch()\n",
            "* Running on public URL: https://60afd5bd1a4de8a55b.gradio.live\n",
            "\n",
            "This share link expires in 1 week. For free permanent hosting and GPU upgrades, run `gradio deploy` from the terminal in the working directory to deploy to Hugging Face Spaces (https://huggingface.co/spaces)\n"
          ]
        },
        {
          "output_type": "display_data",
          "data": {
            "text/plain": [
              "<IPython.core.display.HTML object>"
            ],
            "text/html": [
              "<div><iframe src=\"https://60afd5bd1a4de8a55b.gradio.live\" width=\"100%\" height=\"500\" allow=\"autoplay; camera; microphone; clipboard-read; clipboard-write;\" frameborder=\"0\" allowfullscreen></iframe></div>"
            ]
          },
          "metadata": {}
        },
        {
          "output_type": "execute_result",
          "data": {
            "text/plain": []
          },
          "metadata": {},
          "execution_count": 5
        }
      ]
    },
    {
      "cell_type": "markdown",
      "metadata": {
        "id": "b7cd88f9"
      },
      "source": [
        "## Summary:\n",
        "\n",
        "### Data Analysis Key Findings\n",
        "\n",
        "* A new sheet named \"Reports\" was successfully created or cleared in the Google Sheet.\n",
        "* Both the periodic report and the budget report were written to the \"Reports\" sheet.\n",
        "* Each report included a header and was separated by a buffer of empty rows.\n",
        "* The content of the reports was written line by line into separate rows within the sheet.\n",
        "\n",
        "### Insights or Next Steps\n",
        "\n",
        "* The structure of the reports within the Google Sheet is now organized with clear headers and separation.\n",
        "* Consider adding formatting or additional columns to the \"Reports\" sheet to improve readability and potentially enable further analysis within the sheet itself."
      ]
    },
    {
      "cell_type": "markdown",
      "metadata": {
        "id": "0612fdfc"
      },
      "source": [
        "# Task\n",
        "Modify the provided Python code to change the category of '分解茶' from '餐飲' to '飲料' in the DataFrame, update the category suggestions to remove '餐飲', write the updated data back to the Google Sheet ('工作表 1'), recalculate and update the 'Summary' sheet to reflect the category change and removal of '餐飲', and ensure future reports use the updated data."
      ]
    },
    {
      "cell_type": "markdown",
      "metadata": {
        "id": "92af28e6"
      },
      "source": [
        "## Modify dataframe\n",
        "\n",
        "### Subtask:\n",
        "Change the category of '分解茶' from '餐飲' to '飲料' in the pandas DataFrame (`df`)."
      ]
    },
    {
      "cell_type": "markdown",
      "metadata": {
        "id": "766d8667"
      },
      "source": [
        "**Reasoning**:\n",
        "Change the category of '分解茶' to '飲料' in the DataFrame and display the updated DataFrame head."
      ]
    },
    {
      "cell_type": "markdown",
      "metadata": {
        "id": "f4421224"
      },
      "source": [
        "## Update category suggestions\n",
        "\n",
        "### Subtask:\n",
        "Remove or update '餐飲' related entries in the category suggestion dictionary (`category_suggestions`)."
      ]
    },
    {
      "cell_type": "markdown",
      "metadata": {
        "id": "dae3d0a9"
      },
      "source": [
        "**Reasoning**:\n",
        "Remove the specified keys from the category_suggestions dictionary and add new entries for '便當' and '拉麵' with the category '飲料', then print the updated dictionary."
      ]
    },
    {
      "cell_type": "markdown",
      "metadata": {
        "id": "e2ff579e"
      },
      "source": [
        "## Write updated data to google sheets\n",
        "\n",
        "### Subtask:\n",
        "Write the modified DataFrame (`df`) back to the main Google Sheet ('工作表 1') to reflect the category change."
      ]
    },
    {
      "cell_type": "markdown",
      "metadata": {
        "id": "f54b3306"
      },
      "source": [
        "## Launch the gradio app\n",
        "\n",
        "### Subtask:\n",
        "Launch the Gradio application with the defined interface (`demo`) and generate a shareable link.\n"
      ]
    },
    {
      "cell_type": "markdown",
      "metadata": {
        "id": "6b885534"
      },
      "source": [
        "**Reasoning**:\n",
        "Launch the Gradio application with the defined interface (`demo`) and generate a shareable link.\n",
        "\n"
      ]
    },
    {
      "cell_type": "code",
      "metadata": {
        "colab": {
          "base_uri": "https://localhost:8080/",
          "height": 646
        },
        "id": "f950746f",
        "outputId": "8868e25c-c8ba-4cc1-8a93-ce69959e8012"
      },
      "source": [
        "# Launch the Gradio application defined as demo\n",
        "# Use the .launch() method with the share=True argument to generate a public, shareable URL\n",
        "demo.launch(share=True)"
      ],
      "execution_count": 6,
      "outputs": [
        {
          "output_type": "stream",
          "name": "stdout",
          "text": [
            "Rerunning server... use `close()` to stop if you need to change `launch()` parameters.\n",
            "----\n",
            "Colab notebook detected. To show errors in colab notebook, set debug=True in launch()\n",
            "* Running on public URL: https://60afd5bd1a4de8a55b.gradio.live\n",
            "\n",
            "This share link expires in 1 week. For free permanent hosting and GPU upgrades, run `gradio deploy` from the terminal in the working directory to deploy to Hugging Face Spaces (https://huggingface.co/spaces)\n"
          ]
        },
        {
          "output_type": "display_data",
          "data": {
            "text/plain": [
              "<IPython.core.display.HTML object>"
            ],
            "text/html": [
              "<div><iframe src=\"https://60afd5bd1a4de8a55b.gradio.live\" width=\"100%\" height=\"500\" allow=\"autoplay; camera; microphone; clipboard-read; clipboard-write;\" frameborder=\"0\" allowfullscreen></iframe></div>"
            ]
          },
          "metadata": {}
        },
        {
          "output_type": "execute_result",
          "data": {
            "text/plain": []
          },
          "metadata": {},
          "execution_count": 6
        }
      ]
    },
    {
      "cell_type": "markdown",
      "metadata": {
        "id": "64590bc6"
      },
      "source": [
        "## Summary:\n",
        "\n",
        "### Data Analysis Key Findings\n",
        "\n",
        "*   The `gradio` library was already installed in the environment, which is necessary for creating the web interface.\n",
        "*   The existing code for expense tracking and reporting was successfully refactored into twelve distinct Python functions for better organization and reusability. These functions cover authentication, data handling (reading, writing, adding records), summary statistics, budget management, and report generation/writing.\n",
        "*   A Gradio web interface was successfully built using `gradio.Blocks` with two tabs: \"新增支出紀錄\" (Add Expense Record) and \"生成報告\" (Generate Reports).\n",
        "*   Input components for adding expenses and selecting report periods (including custom date ranges) were defined and integrated with the underlying data processing logic.\n",
        "*   Output components were set up to display status messages, periodic expense reports, and budget reports.\n",
        "*   The Gradio application was launched with `share=True`, resulting in the generation of a public, shareable URL (`https://60afd5bd1a4de8a55b.gradio.live`) for the interface, which is valid for one week.\n",
        "\n",
        "### Insights or Next Steps\n",
        "\n",
        "*   The application now provides a user-friendly web interface for interacting with the expense tracking system stored in Google Sheets, making it more accessible than directly running Python scripts.\n",
        "*   The modular structure of the code, now organized into functions and exposed through Gradio, makes it easier to add new features (e.g., data visualization, user management, integration with other services) or modify existing ones in the future.\n"
      ]
    }
  ]
}